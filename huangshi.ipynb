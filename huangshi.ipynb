{
 "cells": [
  {
   "cell_type": "code",
   "execution_count": null,
   "metadata": {},
   "outputs": [],
   "source": [
    "import time\n",
    "from selenium import webdriver\n",
    "from datetime import datetime\n",
    "from selenium.webdriver.chrome.options import Options\n",
    "\n",
    "chrome_options = Options()\n",
    "chrome_options.add_argument(\"--headless\")\n",
    "\n",
    "for i in range(10000):\n",
    "    driver = webdriver.Chrome('/usr/bin/chromedriver',chrome_options = chrome_options)  # Optional argument, if not specified will search path.\n",
    "    driver.get('https://flights.ctrip.com/international/search/round-ckg-nyc?depdate=2018-10-01_2018-10-23&cabin=y_s&adult=2&child=0&infant=0');\n",
    "\n",
    "    driver.set_window_size(1000, 1000)\n",
    "\n",
    "    time.sleep(15) # Let the user actually see something!\n",
    "    driver.get_screenshot_as_file(\"./scs/\"+str(datetime.now())+\".png\")\n",
    "    driver.quit()\n",
    "    time.sleep(300)"
   ]
  }
 ],
 "metadata": {
  "kernelspec": {
   "display_name": "Python 3",
   "language": "python",
   "name": "python3"
  },
  "language_info": {
   "codemirror_mode": {
    "name": "ipython",
    "version": 3
   },
   "file_extension": ".py",
   "mimetype": "text/x-python",
   "name": "python",
   "nbconvert_exporter": "python",
   "pygments_lexer": "ipython3",
   "version": "3.6.4"
  }
 },
 "nbformat": 4,
 "nbformat_minor": 2
}
