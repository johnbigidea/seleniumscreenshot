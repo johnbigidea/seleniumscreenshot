{
 "cells": [
  {
   "cell_type": "code",
   "execution_count": null,
   "metadata": {},
   "outputs": [],
   "source": [
    "    import time\n",
    "\n",
    "    from selenium import webdriver\n",
    "    from datetime import datetime\n",
    "    from selenium.webdriver.chrome.options import Options\n",
    "\n",
    "    chrome_options = Options()\n",
    "    chrome_options.add_argument(\"--headless\")\n",
    "\n",
    "    for i in range(10000):\n",
    "        driver = webdriver.Chrome('/usr/bin/chromedriver',chrome_options = chrome_options)  # Optional argument, if not specified will search path.\n",
    "        driver.get('https://www.google.com/flights?lite=0#flt=EWR..2018-09-03*.EWR.2018-09-10;c:USD;e:1;sd:1;er:400515324.-1163828879.466407143.-1012986594;t:e');\n",
    "\n",
    "        driver.set_window_size(5000, 5000)\n",
    "\n",
    "        time.sleep(15) # Let the user actually see something!\n",
    "        driver.get_screenshot_as_file(\"./map/\"+str(datetime.now())+\".png\")\n",
    "        driver.quit()\n",
    "        time.sleep(200)"
   ]
  },
  {
   "cell_type": "code",
   "execution_count": 1,
   "metadata": {},
   "outputs": [
    {
     "name": "stdout",
     "output_type": "stream",
     "text": [
      "chengdu.ipynb    geckodriver.log  map-price.ipynb  Untitled.ipynb\r\n",
      "chongqing.ipynb  huangshi.ipynb   test.ipynb\r\n",
      "erw-slc.ipynb    indeed.ipynb     Untitled1.ipynb\r\n"
     ]
    }
   ],
   "source": [
    "ls"
   ]
  },
  {
   "cell_type": "code",
   "execution_count": 2,
   "metadata": {},
   "outputs": [
    {
     "name": "stdout",
     "output_type": "stream",
     "text": [
      "/home/z\n"
     ]
    }
   ],
   "source": [
    "cd"
   ]
  },
  {
   "cell_type": "code",
   "execution_count": 4,
   "metadata": {},
   "outputs": [
    {
     "name": "stdout",
     "output_type": "stream",
     "text": [
      "/home/z/Desktop\n"
     ]
    }
   ],
   "source": [
    "cd Desktop"
   ]
  },
  {
   "cell_type": "code",
   "execution_count": null,
   "metadata": {},
   "outputs": [],
   "source": []
  }
 ],
 "metadata": {
  "kernelspec": {
   "display_name": "Python 3",
   "language": "python",
   "name": "python3"
  },
  "language_info": {
   "codemirror_mode": {
    "name": "ipython",
    "version": 3
   },
   "file_extension": ".py",
   "mimetype": "text/x-python",
   "name": "python",
   "nbconvert_exporter": "python",
   "pygments_lexer": "ipython3",
   "version": "3.6.4"
  }
 },
 "nbformat": 4,
 "nbformat_minor": 2
}
